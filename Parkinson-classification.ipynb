{
 "cells": [
  {
   "cell_type": "code",
   "execution_count": 93,
   "metadata": {},
   "outputs": [],
   "source": [
    "import numpy as np \n",
    "import matplotlib.pyplot as plt\n",
    "import pandas as pd\n",
    "import seaborn as sns\n",
    "import cv2 as cv\n",
    "\n",
    "from skimage.feature import hog \n",
    "from sklearn.neighbors import KNeighborsClassifier\n",
    "from sklearn.svm import SVC\n",
    "from sklearn.ensemble import RandomForestClassifier\n",
    "from sklearn.model_selection import GridSearchCV\n",
    "from sklearn import metrics\n",
    "\n",
    "import os\n",
    "import shutil as sh\n",
    "\n",
    "sns.set_theme(style=\"darkgrid\")"
   ]
  },
  {
   "cell_type": "markdown",
   "metadata": {},
   "source": [
    "## Modèle 1 : binaire entre chaque dessin"
   ]
  },
  {
   "cell_type": "markdown",
   "metadata": {},
   "source": [
    "### Préparation du jeux de données"
   ]
  },
  {
   "cell_type": "code",
   "execution_count": 79,
   "metadata": {},
   "outputs": [],
   "source": [
    "def create_dataset1(source_dir, dest_dir) :\n",
    "    myfolder = os.listdir(source_dir)\n",
    "    for folder in myfolder : \n",
    "        path2 = os.path.join(source_dir,folder)\n",
    "        classes = os.listdir(path2)\n",
    "        for classe in classes : \n",
    "            path3 = os.path.join(path2,classe)\n",
    "            myimages = os.listdir(path3)\n",
    "            myclass = source_dir+\"_\"+classe\n",
    "            for image in myimages : \n",
    "                all_path = os.path.join(path3,image)\n",
    "                path_dest1 = os.path.join(dest_dir,folder)\n",
    "                path_dest_final = os.path.join(path_dest1,myclass)\n",
    "                if not os.path.isdir(path_dest_final) : \n",
    "                    os.makedirs(path_dest_final) # si il n'existe pas il le crée\n",
    "                sh.copy(all_path, path_dest_final)"
   ]
  },
  {
   "cell_type": "code",
   "execution_count": 98,
   "metadata": {},
   "outputs": [],
   "source": [
    "spiral_path = \"spiral\"\n",
    "wave_path = \"wave\"\n",
    "dest_path_spiral = \"Dataset_bin_spiral\"\n",
    "dest_path_wave = \"Dataset_bin_wave\"\n",
    "create_dataset1(spiral_path,dest_path_spiral)\n",
    "create_dataset1(wave_path,dest_path_wave)"
   ]
  },
  {
   "cell_type": "markdown",
   "metadata": {},
   "source": [
    "### Chargement et binarisation des images"
   ]
  },
  {
   "cell_type": "code",
   "execution_count": 119,
   "metadata": {},
   "outputs": [],
   "source": [
    "def loadimages(source_dir) :\n",
    "    myimages = list()\n",
    "    mylabels = list()\n",
    "    myclasses = os.listdir(source_dir)\n",
    "    for classe in myclasses :\n",
    "        mypath = os.path.join(source_dir,classe)\n",
    "        mesimages = os.listdir(mypath)\n",
    "        images_path = [os.path.join(mypath,x) for x in mesimages]\n",
    "        for path in images_path :\n",
    "            test_image = cv.cvtColor(cv.imread(path), cv.COLOR_BGR2GRAY)\n",
    "            histo_test = cv.calcHist([test_image], channels=[0], mask=None,histSize=[256], ranges=[0, 256])\n",
    "            hist_argmax = histo_test.argmax()\n",
    "            test_image2 = test_image.copy()\n",
    "            test_image_filtre1 = test_image2>hist_argmax-30\n",
    "            test_image_filtre2 = test_image2<=hist_argmax-30\n",
    "            test_image[~test_image_filtre1] = 0\n",
    "            test_image[~test_image_filtre2] = 255\n",
    "            test_image = cv.resize(test_image,(227,512))\n",
    "            myimages.append(test_image)\n",
    "            mylabels.append(classe)\n",
    "    return myimages, mylabels"
   ]
  },
  {
   "cell_type": "markdown",
   "metadata": {},
   "source": [
    "## 1) Wave"
   ]
  },
  {
   "cell_type": "code",
   "execution_count": 120,
   "metadata": {},
   "outputs": [],
   "source": [
    "train_path = \"./Dataset_bin_wave/training/\"\n",
    "test_path = \"./Dataset_bin_wave/testing/\"\n",
    "train_images, train_labels = loadimages(train_path)\n",
    "test_images, test_labels = loadimages(test_path)"
   ]
  },
  {
   "cell_type": "markdown",
   "metadata": {},
   "source": [
    "### HoG"
   ]
  },
  {
   "cell_type": "code",
   "execution_count": 146,
   "metadata": {},
   "outputs": [],
   "source": [
    "def hog_list (listimage) :\n",
    "    fv = []\n",
    "    hog_image = []\n",
    "    for i in range(len(listimage)) :\n",
    "        a, b = hog(listimage[i], orientations=9, pixels_per_cell=(8, 8),\n",
    "                \tcells_per_block=(2, 2), visualize=True)\n",
    "        fv.append(a)\n",
    "        hog_image.append(b)\n",
    "    return pd.DataFrame(fv),hog_image"
   ]
  },
  {
   "cell_type": "code",
   "execution_count": 147,
   "metadata": {},
   "outputs": [],
   "source": [
    "features_train, hog_images_train = hog_list(train_images)\n",
    "features_test, hog_images_test = hog_list(test_images)"
   ]
  },
  {
   "cell_type": "markdown",
   "metadata": {},
   "source": [
    "### Classifieur"
   ]
  },
  {
   "cell_type": "markdown",
   "metadata": {},
   "source": [
    "#### 1) KNN"
   ]
  },
  {
   "cell_type": "code",
   "execution_count": 148,
   "metadata": {},
   "outputs": [
    {
     "data": {
      "text/plain": [
       "KNeighborsClassifier()"
      ]
     },
     "execution_count": 148,
     "metadata": {},
     "output_type": "execute_result"
    }
   ],
   "source": [
    "parameters = {'n_neighbors':np.arange(1,20,1), 'p' : np.arange(1,3,1)}\n",
    "knn=KNeighborsClassifier()\n",
    "clf = GridSearchCV(knn, parameters)\n",
    "clf.fit(features_train,train_labels)\n",
    "knn=KNeighborsClassifier(**clf.best_params_)\n",
    "knn.fit(features_train,train_labels)"
   ]
  },
  {
   "cell_type": "code",
   "execution_count": 149,
   "metadata": {},
   "outputs": [
    {
     "data": {
      "text/plain": [
       "{'n_neighbors': 5, 'p': 2}"
      ]
     },
     "execution_count": 149,
     "metadata": {},
     "output_type": "execute_result"
    }
   ],
   "source": [
    "clf.best_params_"
   ]
  },
  {
   "cell_type": "markdown",
   "metadata": {},
   "source": [
    "Evaluation du modèle"
   ]
  },
  {
   "cell_type": "code",
   "execution_count": 150,
   "metadata": {},
   "outputs": [
    {
     "name": "stdout",
     "output_type": "stream",
     "text": [
      "Accuracy :  0.7\n",
      "F1-score :  0.6969696969696968\n",
      "                precision    recall  f1-score   support\n",
      "\n",
      "  wave_healthy       0.67      0.80      0.73        15\n",
      "wave_parkinson       0.75      0.60      0.67        15\n",
      "\n",
      "      accuracy                           0.70        30\n",
      "     macro avg       0.71      0.70      0.70        30\n",
      "  weighted avg       0.71      0.70      0.70        30\n",
      "\n"
     ]
    }
   ],
   "source": [
    "yknn=knn.predict(features_test)\n",
    "print(\"Accuracy : \",metrics.accuracy_score(test_labels, yknn))\n",
    "print(\"F1-score : \", metrics.f1_score(test_labels, yknn, average='macro'))\n",
    "print(metrics.classification_report(test_labels, yknn))"
   ]
  },
  {
   "cell_type": "code",
   "execution_count": 151,
   "metadata": {},
   "outputs": [
    {
     "data": {
      "image/png": "[encoded data removed]",
      "text/plain": [
       "<Figure size 500x400 with 2 Axes>"
      ]
     },
     "metadata": {},
     "output_type": "display_data"
    }
   ],
   "source": [
    "sns.set_theme(style='darkgrid')\n",
    "plt.figure(figsize=(5,4))\n",
    "sns.heatmap(metrics.confusion_matrix(test_labels, yknn), annot=True, annot_kws={\"size\": 16})\n",
    "plt.title('Confusion matrix')\n",
    "plt.show()"
   ]
  }
 ],
 "metadata": {
  "kernelspec": {
   "display_name": "Python 3.8.13 ('base')",
   "language": "python",
   "name": "python3"
  },
  "language_info": {
   "codemirror_mode": {
    "name": "ipython",
    "version": 3
   },
   "file_extension": ".py",
   "mimetype": "text/x-python",
   "name": "python",
   "nbconvert_exporter": "python",
   "pygments_lexer": "ipython3",
   "version": "3.8.13"
  },
  "orig_nbformat": 4,
  "vscode": {
   "interpreter": {
    "hash": "631af202ec7c40e141c49d63cac6c8cb664469fed6e4d5ddc6436b49edc60500"
   }
  }
 },
 "nbformat": 4,
 "nbformat_minor": 2
}
